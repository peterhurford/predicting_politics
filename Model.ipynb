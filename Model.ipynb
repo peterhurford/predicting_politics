{
 "cells": [
  {
   "cell_type": "code",
   "execution_count": 137,
   "metadata": {},
   "outputs": [],
   "source": [
    "import pandas as pd\n",
    "import numpy as np\n",
    "\n",
    "from mlgear.utils import show\n",
    "from mlgear.cv import run_cv_model\n",
    "from mlgear.models import runRidge\n",
    "from mlgear.metrics import rmse"
   ]
  },
  {
   "cell_type": "code",
   "execution_count": 138,
   "metadata": {},
   "outputs": [
    {
     "name": "stdout",
     "output_type": "stream",
     "text": [
      "        election      state  year    stage dem_candidate  \\\n",
      "0      president    Alabama  2004  general        NoName   \n",
      "1      president    Alabama  2004  general        NoName   \n",
      "2      president    Alabama  2004  general        NoName   \n",
      "3      president    Alabama  2004  general        NoName   \n",
      "4      president    Alabama  2004  general        NoName   \n",
      "...          ...        ...   ...      ...           ...   \n",
      "27114   governor  Louisiana  2019  general       Edwards   \n",
      "27115   governor  Louisiana  2019  general       Edwards   \n",
      "27116   governor  Louisiana  2019  general       Edwards   \n",
      "27117   governor  Louisiana  2019  general       Edwards   \n",
      "27118   governor  Louisiana  2019  general       Edwards   \n",
      "\n",
      "                                pollster     N           methodology  \\\n",
      "0                             SurveyUSA    735               Unknown   \n",
      "1                        Capital Survey    645               Unknown   \n",
      "2                             SurveyUSA    699               Unknown   \n",
      "3                       Mobile Register    619               Unknown   \n",
      "4                                   ARG    699               Unknown   \n",
      "...                                  ...   ...                   ...   \n",
      "27114                             Cygnal   800  IVR/Online/Live/Text   \n",
      "27115             Targoz Market Research   640                Online   \n",
      "27116  Edgewater Research/My People Vote   661                   IVR   \n",
      "27117                      JMC Analytics   600         IVR/Live/Text   \n",
      "27118                    Trafalgar Group  1107                   IVR   \n",
      "\n",
      "      population  days_until 538grade  dem_polled  rep_polled  ind_polled  \\\n",
      "0        Unknown           6  Unknown   39.000000   57.000000    0.000000   \n",
      "1        Unknown          19  Unknown   32.000000   56.000000    0.000000   \n",
      "2        Unknown          30  Unknown   34.000000   62.000000    0.000000   \n",
      "3        Unknown          33  Unknown   22.000000   59.000000    0.000000   \n",
      "4        Unknown          47  Unknown   40.000000   54.000000    0.000000   \n",
      "...          ...         ...      ...         ...         ...         ...   \n",
      "27114    Unknown           8      A/B   49.800000   47.600000    0.000000   \n",
      "27115    Unknown           6      C/D   50.000000   46.000000    0.000000   \n",
      "27116    Unknown           5      B/C   49.200000   48.900000    0.000000   \n",
      "27117    Unknown           3      B/C   46.500000   46.000000    0.000000   \n",
      "27118    Unknown           2       C-   49.400000   50.600000    0.000000   \n",
      "\n",
      "       undecided_polled  dem_actual  rep_actual  ind_actual  dem_diff  \\\n",
      "0              4.000000   37.099698   62.900302   -1.000000  3.900302   \n",
      "1             12.000000   37.099698   62.900302   -1.000000  0.900302   \n",
      "2              4.000000   37.099698   62.900302   -1.000000 -1.099698   \n",
      "3             19.000000   37.099698   62.900302   -1.000000 -5.599698   \n",
      "4              6.000000   37.099698   62.900302   -1.000000  5.900302   \n",
      "...                 ...         ...         ...         ...       ...   \n",
      "27114          2.600000   51.330000   48.670000    0.000000 -0.230000   \n",
      "27115          4.000000   51.330000   48.670000    0.000000  0.670000   \n",
      "27116          1.900000   51.330000   48.670000    0.000000 -1.180000   \n",
      "27117          7.500000   51.330000   48.670000    0.000000 -1.080000   \n",
      "27118          0.000000   51.330000   48.670000    0.000000 -1.930000   \n",
      "\n",
      "       rep_diff  polled_margin  actual_margin  margin_diff  margin_abs_diff  \\\n",
      "0     -3.900302     -18.000000     -25.800604     7.800604         7.800604   \n",
      "1     -0.900302     -24.000000     -25.800604     1.800604         1.800604   \n",
      "2      1.099698     -28.000000     -25.800604    -2.199396         2.199396   \n",
      "3      5.599698     -37.000000     -25.800604   -11.199396        11.199396   \n",
      "4     -5.900302     -14.000000     -25.800604    11.800604        11.800604   \n",
      "...         ...            ...            ...          ...              ...   \n",
      "27114  0.230000       2.200000       2.660000    -0.460000         0.460000   \n",
      "27115 -0.670000       4.000000       2.660000     1.340000         1.340000   \n",
      "27116  1.180000       0.300000       2.660000    -2.360000         2.360000   \n",
      "27117  1.080000       0.500000       2.660000    -2.160000         2.160000   \n",
      "27118  1.930000      -1.200000       2.660000    -3.860000         3.860000   \n",
      "\n",
      "      538grade_simple  \n",
      "0             Unknown  \n",
      "1             Unknown  \n",
      "2             Unknown  \n",
      "3             Unknown  \n",
      "4             Unknown  \n",
      "...               ...  \n",
      "27114               B  \n",
      "27115               C  \n",
      "27116               C  \n",
      "27117               C  \n",
      "27118             D/F  \n",
      "\n",
      "[27119 rows x 25 columns]\n",
      "(27119, 25)\n"
     ]
    }
   ],
   "source": [
    "polls = pd.read_csv('polls.csv')\n",
    "show(polls)"
   ]
  },
  {
   "cell_type": "code",
   "execution_count": 139,
   "metadata": {},
   "outputs": [
    {
     "name": "stdout",
     "output_type": "stream",
     "text": [
      "            state  polled_margin  actual_margin\n",
      "0         Alabama     -18.139388     -25.461653\n",
      "1          Alaska      -8.147500     -10.061191\n",
      "2         Arizona       4.312013       0.308710\n",
      "3        Arkansas     -18.676364     -27.620668\n",
      "4      California      27.367593      29.163223\n",
      "..            ...            ...            ...\n",
      "45       Virginia      13.350536      10.114014\n",
      "46     Washington      24.371739      19.203323\n",
      "47  West Virginia     -31.196444     -38.935031\n",
      "48      Wisconsin       8.369448       0.627100\n",
      "49        Wyoming     -32.987442     -43.111923\n",
      "\n",
      "[50 rows x 3 columns]\n",
      "(50, 3)\n"
     ]
    }
   ],
   "source": [
    "disp = polls[(polls['days_until'] < 90) & (polls['election'] == 'president') & (polls['year'] == 2020)]\n",
    "disp = disp.groupby(['state'])\n",
    "disp = disp[['polled_margin', 'actual_margin']].mean().reset_index()\n",
    "show(disp)"
   ]
  },
  {
   "cell_type": "code",
   "execution_count": 140,
   "metadata": {},
   "outputs": [
    {
     "name": "stdout",
     "output_type": "stream",
     "text": [
      "            state  2016_margin_diff  2016_actual_margin\n",
      "0         Alabama          8.220000          -27.720000\n",
      "1          Alaska         12.396667          -14.730000\n",
      "2         Arizona          1.500000           -3.500000\n",
      "3        Arkansas          6.845000          -26.920000\n",
      "4      California         -6.490000           29.990000\n",
      "..            ...               ...                 ...\n",
      "48       Virginia          0.985556            5.320000\n",
      "49     Washington          0.290000           15.710000\n",
      "50  West Virginia         12.670000          -41.670000\n",
      "51      Wisconsin          5.981538           -0.770000\n",
      "52        Wyoming          6.790000          -46.290000\n",
      "\n",
      "[53 rows x 3 columns]\n",
      "(53, 3)\n"
     ]
    }
   ],
   "source": [
    "disp2 = polls[(polls['days_until'] < 90) & (polls['election'] == 'president') & (polls['year'] == 2016)]\n",
    "disp2 = disp2.groupby(['state',])\n",
    "disp2 = disp2[['margin_diff', 'actual_margin']].mean().reset_index()\n",
    "disp2.columns = ['state', '2016_margin_diff', '2016_actual_margin']\n",
    "show(disp2)"
   ]
  },
  {
   "cell_type": "code",
   "execution_count": 141,
   "metadata": {},
   "outputs": [
    {
     "name": "stdout",
     "output_type": "stream",
     "text": [
      "            state  2016_margin_diff  2016_actual_margin\n",
      "0         Alabama          8.220000          -27.720000\n",
      "1          Alaska         12.396667          -14.730000\n",
      "2         Arizona          1.500000           -3.500000\n",
      "3        Arkansas          6.845000          -26.920000\n",
      "4      California         -6.490000           29.990000\n",
      "..            ...               ...                 ...\n",
      "48       Virginia          0.985556            5.320000\n",
      "49     Washington          0.290000           15.710000\n",
      "50  West Virginia         12.670000          -41.670000\n",
      "51      Wisconsin          5.981538           -0.770000\n",
      "52        Wyoming          6.790000          -46.290000\n",
      "\n",
      "[53 rows x 3 columns]\n",
      "(53, 3)\n"
     ]
    }
   ],
   "source": [
    "disp3 = polls[(polls['days_until'] < 90) & (polls['election'] == 'president') & (polls['year'] == 2012)]\n",
    "disp3 = disp3.groupby(['state'])\n",
    "disp3 = disp3[['margin_diff', 'actual_margin']].mean().reset_index()\n",
    "disp3.columns = ['state', '2012_margin_diff', '2012_actual_margin']\n",
    "show(disp2)"
   ]
  },
  {
   "cell_type": "code",
   "execution_count": 142,
   "metadata": {},
   "outputs": [
    {
     "name": "stdout",
     "output_type": "stream",
     "text": [
      "            state  polled_margin  actual_margin  2016_margin_diff  \\\n",
      "0         Alabama     -18.139388     -25.461653          8.220000   \n",
      "1          Alaska      -8.147500     -10.061191         12.396667   \n",
      "2         Arizona       4.312013       0.308710          1.500000   \n",
      "3        Arkansas     -18.676364     -27.620668          6.845000   \n",
      "4      California      27.367593      29.163223         -6.490000   \n",
      "..            ...            ...            ...               ...   \n",
      "45       Virginia      13.350536      10.114014          0.985556   \n",
      "46     Washington      24.371739      19.203323          0.290000   \n",
      "47  West Virginia     -31.196444     -38.935031         12.670000   \n",
      "48      Wisconsin       8.369448       0.627100          5.981538   \n",
      "49        Wyoming     -32.987442     -43.111923          6.790000   \n",
      "\n",
      "    2016_actual_margin  2012_margin_diff  2012_actual_margin  \n",
      "0           -27.720000               nan                 nan  \n",
      "1           -14.730000               nan                 nan  \n",
      "2            -3.500000          1.502368           -9.189868  \n",
      "3           -26.920000               nan                 nan  \n",
      "4            29.990000         -6.654868           23.609034  \n",
      "..                 ...               ...                 ...  \n",
      "45            5.320000         -2.787849            3.921182  \n",
      "46           15.710000         -2.096612           15.148464  \n",
      "47          -41.670000               nan                 nan  \n",
      "48           -0.770000         -3.270250            7.008028  \n",
      "49          -46.290000               nan                 nan  \n",
      "\n",
      "[50 rows x 7 columns]\n",
      "(50, 7)\n"
     ]
    }
   ],
   "source": [
    "disp = disp.merge(disp2, how='left').merge(disp3, how='left') #.fillna(-20)\n",
    "show(disp)"
   ]
  },
  {
   "cell_type": "code",
   "execution_count": 143,
   "metadata": {},
   "outputs": [
    {
     "name": "stdout",
     "output_type": "stream",
     "text": [
      "Started model fold 1/5\n",
      "[2021-03-11 23:34:29.938374] Fit Ridge\n"
     ]
    },
    {
     "ename": "ValueError",
     "evalue": "Input contains NaN, infinity or a value too large for dtype('float64').",
     "output_type": "error",
     "traceback": [
      "\u001b[0;31m---------------------------------------------------------------------------\u001b[0m",
      "\u001b[0;31mValueError\u001b[0m                                Traceback (most recent call last)",
      "\u001b[0;32m<ipython-input-143-00442350bbdf>\u001b[0m in \u001b[0;36m<module>\u001b[0;34m\u001b[0m\n\u001b[0;32m----> 1\u001b[0;31m \u001b[0mresults\u001b[0m \u001b[0;34m=\u001b[0m \u001b[0mrun_cv_model\u001b[0m\u001b[0;34m(\u001b[0m\u001b[0mdisp\u001b[0m\u001b[0;34m[\u001b[0m\u001b[0;34m[\u001b[0m\u001b[0;34m'polled_margin'\u001b[0m\u001b[0;34m,\u001b[0m \u001b[0;34m'2012_margin_diff'\u001b[0m\u001b[0;34m,\u001b[0m \u001b[0;34m'2016_margin_diff'\u001b[0m\u001b[0;34m,\u001b[0m \u001b[0;34m'2016_actual_margin'\u001b[0m\u001b[0;34m]\u001b[0m\u001b[0;34m]\u001b[0m\u001b[0;34m,\u001b[0m \u001b[0;32mNone\u001b[0m\u001b[0;34m,\u001b[0m \u001b[0mdisp\u001b[0m\u001b[0;34m[\u001b[0m\u001b[0;34m'actual_margin'\u001b[0m\u001b[0;34m]\u001b[0m\u001b[0;34m.\u001b[0m\u001b[0mvalues\u001b[0m\u001b[0;34m,\u001b[0m \u001b[0mrunRidge\u001b[0m\u001b[0;34m,\u001b[0m \u001b[0;34m{\u001b[0m\u001b[0;34m}\u001b[0m\u001b[0;34m,\u001b[0m \u001b[0mrmse\u001b[0m\u001b[0;34m)\u001b[0m\u001b[0;34m\u001b[0m\u001b[0;34m\u001b[0m\u001b[0m\n\u001b[0m",
      "\u001b[0;32m~/.virtualenvs/dev/lib/python3.8/site-packages/mlgear/cv.py\u001b[0m in \u001b[0;36mrun_cv_model\u001b[0;34m(train, test, target, model_fn, params, eval_fn, label, n_folds, fold_splits, classes, stop_on_fold, train_on_full)\u001b[0m\n\u001b[1;32m     37\u001b[0m                \u001b[0;34m'fold'\u001b[0m\u001b[0;34m:\u001b[0m \u001b[0mi\u001b[0m\u001b[0;34m,\u001b[0m\u001b[0;34m\u001b[0m\u001b[0;34m\u001b[0m\u001b[0m\n\u001b[1;32m     38\u001b[0m                'label': label}\n\u001b[0;32m---> 39\u001b[0;31m        \u001b[0mpred_val_y\u001b[0m\u001b[0;34m,\u001b[0m \u001b[0mpred_test_y\u001b[0m\u001b[0;34m,\u001b[0m \u001b[0mimportances\u001b[0m\u001b[0;34m,\u001b[0m \u001b[0mmodel\u001b[0m \u001b[0;34m=\u001b[0m \u001b[0mmodel_fn\u001b[0m\u001b[0;34m(\u001b[0m\u001b[0mdev_X\u001b[0m\u001b[0;34m,\u001b[0m \u001b[0mdev_y\u001b[0m\u001b[0;34m,\u001b[0m \u001b[0mval_X\u001b[0m\u001b[0;34m,\u001b[0m \u001b[0mval_y\u001b[0m\u001b[0;34m,\u001b[0m \u001b[0mtest\u001b[0m\u001b[0;34m,\u001b[0m \u001b[0mparams2\u001b[0m\u001b[0;34m,\u001b[0m \u001b[0mmeta\u001b[0m\u001b[0;34m)\u001b[0m\u001b[0;34m\u001b[0m\u001b[0;34m\u001b[0m\u001b[0m\n\u001b[0m\u001b[1;32m     40\u001b[0m        \u001b[0;32mif\u001b[0m \u001b[0mtest\u001b[0m \u001b[0;32mis\u001b[0m \u001b[0;32mnot\u001b[0m \u001b[0;32mNone\u001b[0m\u001b[0;34m:\u001b[0m\u001b[0;34m\u001b[0m\u001b[0;34m\u001b[0m\u001b[0m\n\u001b[1;32m     41\u001b[0m            \u001b[0mpred_full_test\u001b[0m \u001b[0;34m=\u001b[0m \u001b[0mpred_full_test\u001b[0m \u001b[0;34m+\u001b[0m \u001b[0mpred_test_y\u001b[0m\u001b[0;34m\u001b[0m\u001b[0;34m\u001b[0m\u001b[0m\n",
      "\u001b[0;32m~/.virtualenvs/dev/lib/python3.8/site-packages/mlgear/models.py\u001b[0m in \u001b[0;36mrunRidge\u001b[0;34m(train_X, train_y, test_X, test_y, test_X2, params, meta)\u001b[0m\n\u001b[1;32m    139\u001b[0m     \u001b[0mmodel\u001b[0m \u001b[0;34m=\u001b[0m \u001b[0mRidge\u001b[0m\u001b[0;34m(\u001b[0m\u001b[0;34m**\u001b[0m\u001b[0mparams\u001b[0m\u001b[0;34m)\u001b[0m\u001b[0;34m\u001b[0m\u001b[0;34m\u001b[0m\u001b[0m\n\u001b[1;32m    140\u001b[0m     \u001b[0mprint_step\u001b[0m\u001b[0;34m(\u001b[0m\u001b[0;34m'Fit Ridge'\u001b[0m\u001b[0;34m)\u001b[0m\u001b[0;34m\u001b[0m\u001b[0;34m\u001b[0m\u001b[0m\n\u001b[0;32m--> 141\u001b[0;31m     \u001b[0mmodel\u001b[0m\u001b[0;34m.\u001b[0m\u001b[0mfit\u001b[0m\u001b[0;34m(\u001b[0m\u001b[0mtrain_X\u001b[0m\u001b[0;34m,\u001b[0m \u001b[0mtrain_y\u001b[0m\u001b[0;34m)\u001b[0m\u001b[0;34m\u001b[0m\u001b[0;34m\u001b[0m\u001b[0m\n\u001b[0m\u001b[1;32m    142\u001b[0m     \u001b[0;32mif\u001b[0m \u001b[0mtest_X\u001b[0m \u001b[0;32mis\u001b[0m \u001b[0;32mnot\u001b[0m \u001b[0;32mNone\u001b[0m\u001b[0;34m:\u001b[0m\u001b[0;34m\u001b[0m\u001b[0;34m\u001b[0m\u001b[0m\n\u001b[1;32m    143\u001b[0m         \u001b[0mprint_step\u001b[0m\u001b[0;34m(\u001b[0m\u001b[0;34m'Ridge Predict 1/2'\u001b[0m\u001b[0;34m)\u001b[0m\u001b[0;34m\u001b[0m\u001b[0;34m\u001b[0m\u001b[0m\n",
      "\u001b[0;32m~/.virtualenvs/dev/lib/python3.8/site-packages/sklearn/linear_model/_ridge.py\u001b[0m in \u001b[0;36mfit\u001b[0;34m(self, X, y, sample_weight)\u001b[0m\n\u001b[1;32m    760\u001b[0m         \u001b[0mself\u001b[0m \u001b[0;34m:\u001b[0m \u001b[0mreturns\u001b[0m \u001b[0man\u001b[0m \u001b[0minstance\u001b[0m \u001b[0mof\u001b[0m \u001b[0mself\u001b[0m\u001b[0;34m.\u001b[0m\u001b[0;34m\u001b[0m\u001b[0;34m\u001b[0m\u001b[0m\n\u001b[1;32m    761\u001b[0m         \"\"\"\n\u001b[0;32m--> 762\u001b[0;31m         \u001b[0;32mreturn\u001b[0m \u001b[0msuper\u001b[0m\u001b[0;34m(\u001b[0m\u001b[0;34m)\u001b[0m\u001b[0;34m.\u001b[0m\u001b[0mfit\u001b[0m\u001b[0;34m(\u001b[0m\u001b[0mX\u001b[0m\u001b[0;34m,\u001b[0m \u001b[0my\u001b[0m\u001b[0;34m,\u001b[0m \u001b[0msample_weight\u001b[0m\u001b[0;34m=\u001b[0m\u001b[0msample_weight\u001b[0m\u001b[0;34m)\u001b[0m\u001b[0;34m\u001b[0m\u001b[0;34m\u001b[0m\u001b[0m\n\u001b[0m\u001b[1;32m    763\u001b[0m \u001b[0;34m\u001b[0m\u001b[0m\n\u001b[1;32m    764\u001b[0m \u001b[0;34m\u001b[0m\u001b[0m\n",
      "\u001b[0;32m~/.virtualenvs/dev/lib/python3.8/site-packages/sklearn/linear_model/_ridge.py\u001b[0m in \u001b[0;36mfit\u001b[0;34m(self, X, y, sample_weight)\u001b[0m\n\u001b[1;32m    540\u001b[0m         _accept_sparse = _get_valid_accept_sparse(sparse.issparse(X),\n\u001b[1;32m    541\u001b[0m                                                   self.solver)\n\u001b[0;32m--> 542\u001b[0;31m         X, y = self._validate_data(X, y,\n\u001b[0m\u001b[1;32m    543\u001b[0m                                    \u001b[0maccept_sparse\u001b[0m\u001b[0;34m=\u001b[0m\u001b[0m_accept_sparse\u001b[0m\u001b[0;34m,\u001b[0m\u001b[0;34m\u001b[0m\u001b[0;34m\u001b[0m\u001b[0m\n\u001b[1;32m    544\u001b[0m                                    \u001b[0mdtype\u001b[0m\u001b[0;34m=\u001b[0m\u001b[0m_dtype\u001b[0m\u001b[0;34m,\u001b[0m\u001b[0;34m\u001b[0m\u001b[0;34m\u001b[0m\u001b[0m\n",
      "\u001b[0;32m~/.virtualenvs/dev/lib/python3.8/site-packages/sklearn/base.py\u001b[0m in \u001b[0;36m_validate_data\u001b[0;34m(self, X, y, reset, validate_separately, **check_params)\u001b[0m\n\u001b[1;32m    431\u001b[0m                 \u001b[0my\u001b[0m \u001b[0;34m=\u001b[0m \u001b[0mcheck_array\u001b[0m\u001b[0;34m(\u001b[0m\u001b[0my\u001b[0m\u001b[0;34m,\u001b[0m \u001b[0;34m**\u001b[0m\u001b[0mcheck_y_params\u001b[0m\u001b[0;34m)\u001b[0m\u001b[0;34m\u001b[0m\u001b[0;34m\u001b[0m\u001b[0m\n\u001b[1;32m    432\u001b[0m             \u001b[0;32melse\u001b[0m\u001b[0;34m:\u001b[0m\u001b[0;34m\u001b[0m\u001b[0;34m\u001b[0m\u001b[0m\n\u001b[0;32m--> 433\u001b[0;31m                 \u001b[0mX\u001b[0m\u001b[0;34m,\u001b[0m \u001b[0my\u001b[0m \u001b[0;34m=\u001b[0m \u001b[0mcheck_X_y\u001b[0m\u001b[0;34m(\u001b[0m\u001b[0mX\u001b[0m\u001b[0;34m,\u001b[0m \u001b[0my\u001b[0m\u001b[0;34m,\u001b[0m \u001b[0;34m**\u001b[0m\u001b[0mcheck_params\u001b[0m\u001b[0;34m)\u001b[0m\u001b[0;34m\u001b[0m\u001b[0;34m\u001b[0m\u001b[0m\n\u001b[0m\u001b[1;32m    434\u001b[0m             \u001b[0mout\u001b[0m \u001b[0;34m=\u001b[0m \u001b[0mX\u001b[0m\u001b[0;34m,\u001b[0m \u001b[0my\u001b[0m\u001b[0;34m\u001b[0m\u001b[0;34m\u001b[0m\u001b[0m\n\u001b[1;32m    435\u001b[0m \u001b[0;34m\u001b[0m\u001b[0m\n",
      "\u001b[0;32m~/.virtualenvs/dev/lib/python3.8/site-packages/sklearn/utils/validation.py\u001b[0m in \u001b[0;36minner_f\u001b[0;34m(*args, **kwargs)\u001b[0m\n\u001b[1;32m     61\u001b[0m             \u001b[0mextra_args\u001b[0m \u001b[0;34m=\u001b[0m \u001b[0mlen\u001b[0m\u001b[0;34m(\u001b[0m\u001b[0margs\u001b[0m\u001b[0;34m)\u001b[0m \u001b[0;34m-\u001b[0m \u001b[0mlen\u001b[0m\u001b[0;34m(\u001b[0m\u001b[0mall_args\u001b[0m\u001b[0;34m)\u001b[0m\u001b[0;34m\u001b[0m\u001b[0;34m\u001b[0m\u001b[0m\n\u001b[1;32m     62\u001b[0m             \u001b[0;32mif\u001b[0m \u001b[0mextra_args\u001b[0m \u001b[0;34m<=\u001b[0m \u001b[0;36m0\u001b[0m\u001b[0;34m:\u001b[0m\u001b[0;34m\u001b[0m\u001b[0;34m\u001b[0m\u001b[0m\n\u001b[0;32m---> 63\u001b[0;31m                 \u001b[0;32mreturn\u001b[0m \u001b[0mf\u001b[0m\u001b[0;34m(\u001b[0m\u001b[0;34m*\u001b[0m\u001b[0margs\u001b[0m\u001b[0;34m,\u001b[0m \u001b[0;34m**\u001b[0m\u001b[0mkwargs\u001b[0m\u001b[0;34m)\u001b[0m\u001b[0;34m\u001b[0m\u001b[0;34m\u001b[0m\u001b[0m\n\u001b[0m\u001b[1;32m     64\u001b[0m \u001b[0;34m\u001b[0m\u001b[0m\n\u001b[1;32m     65\u001b[0m             \u001b[0;31m# extra_args > 0\u001b[0m\u001b[0;34m\u001b[0m\u001b[0;34m\u001b[0m\u001b[0;34m\u001b[0m\u001b[0m\n",
      "\u001b[0;32m~/.virtualenvs/dev/lib/python3.8/site-packages/sklearn/utils/validation.py\u001b[0m in \u001b[0;36mcheck_X_y\u001b[0;34m(X, y, accept_sparse, accept_large_sparse, dtype, order, copy, force_all_finite, ensure_2d, allow_nd, multi_output, ensure_min_samples, ensure_min_features, y_numeric, estimator)\u001b[0m\n\u001b[1;32m    812\u001b[0m         \u001b[0;32mraise\u001b[0m \u001b[0mValueError\u001b[0m\u001b[0;34m(\u001b[0m\u001b[0;34m\"y cannot be None\"\u001b[0m\u001b[0;34m)\u001b[0m\u001b[0;34m\u001b[0m\u001b[0;34m\u001b[0m\u001b[0m\n\u001b[1;32m    813\u001b[0m \u001b[0;34m\u001b[0m\u001b[0m\n\u001b[0;32m--> 814\u001b[0;31m     X = check_array(X, accept_sparse=accept_sparse,\n\u001b[0m\u001b[1;32m    815\u001b[0m                     \u001b[0maccept_large_sparse\u001b[0m\u001b[0;34m=\u001b[0m\u001b[0maccept_large_sparse\u001b[0m\u001b[0;34m,\u001b[0m\u001b[0;34m\u001b[0m\u001b[0;34m\u001b[0m\u001b[0m\n\u001b[1;32m    816\u001b[0m                     \u001b[0mdtype\u001b[0m\u001b[0;34m=\u001b[0m\u001b[0mdtype\u001b[0m\u001b[0;34m,\u001b[0m \u001b[0morder\u001b[0m\u001b[0;34m=\u001b[0m\u001b[0morder\u001b[0m\u001b[0;34m,\u001b[0m \u001b[0mcopy\u001b[0m\u001b[0;34m=\u001b[0m\u001b[0mcopy\u001b[0m\u001b[0;34m,\u001b[0m\u001b[0;34m\u001b[0m\u001b[0;34m\u001b[0m\u001b[0m\n",
      "\u001b[0;32m~/.virtualenvs/dev/lib/python3.8/site-packages/sklearn/utils/validation.py\u001b[0m in \u001b[0;36minner_f\u001b[0;34m(*args, **kwargs)\u001b[0m\n\u001b[1;32m     61\u001b[0m             \u001b[0mextra_args\u001b[0m \u001b[0;34m=\u001b[0m \u001b[0mlen\u001b[0m\u001b[0;34m(\u001b[0m\u001b[0margs\u001b[0m\u001b[0;34m)\u001b[0m \u001b[0;34m-\u001b[0m \u001b[0mlen\u001b[0m\u001b[0;34m(\u001b[0m\u001b[0mall_args\u001b[0m\u001b[0;34m)\u001b[0m\u001b[0;34m\u001b[0m\u001b[0;34m\u001b[0m\u001b[0m\n\u001b[1;32m     62\u001b[0m             \u001b[0;32mif\u001b[0m \u001b[0mextra_args\u001b[0m \u001b[0;34m<=\u001b[0m \u001b[0;36m0\u001b[0m\u001b[0;34m:\u001b[0m\u001b[0;34m\u001b[0m\u001b[0;34m\u001b[0m\u001b[0m\n\u001b[0;32m---> 63\u001b[0;31m                 \u001b[0;32mreturn\u001b[0m \u001b[0mf\u001b[0m\u001b[0;34m(\u001b[0m\u001b[0;34m*\u001b[0m\u001b[0margs\u001b[0m\u001b[0;34m,\u001b[0m \u001b[0;34m**\u001b[0m\u001b[0mkwargs\u001b[0m\u001b[0;34m)\u001b[0m\u001b[0;34m\u001b[0m\u001b[0;34m\u001b[0m\u001b[0m\n\u001b[0m\u001b[1;32m     64\u001b[0m \u001b[0;34m\u001b[0m\u001b[0m\n\u001b[1;32m     65\u001b[0m             \u001b[0;31m# extra_args > 0\u001b[0m\u001b[0;34m\u001b[0m\u001b[0;34m\u001b[0m\u001b[0;34m\u001b[0m\u001b[0m\n",
      "\u001b[0;32m~/.virtualenvs/dev/lib/python3.8/site-packages/sklearn/utils/validation.py\u001b[0m in \u001b[0;36mcheck_array\u001b[0;34m(array, accept_sparse, accept_large_sparse, dtype, order, copy, force_all_finite, ensure_2d, allow_nd, ensure_min_samples, ensure_min_features, estimator)\u001b[0m\n\u001b[1;32m    661\u001b[0m \u001b[0;34m\u001b[0m\u001b[0m\n\u001b[1;32m    662\u001b[0m         \u001b[0;32mif\u001b[0m \u001b[0mforce_all_finite\u001b[0m\u001b[0;34m:\u001b[0m\u001b[0;34m\u001b[0m\u001b[0;34m\u001b[0m\u001b[0m\n\u001b[0;32m--> 663\u001b[0;31m             _assert_all_finite(array,\n\u001b[0m\u001b[1;32m    664\u001b[0m                                allow_nan=force_all_finite == 'allow-nan')\n\u001b[1;32m    665\u001b[0m \u001b[0;34m\u001b[0m\u001b[0m\n",
      "\u001b[0;32m~/.virtualenvs/dev/lib/python3.8/site-packages/sklearn/utils/validation.py\u001b[0m in \u001b[0;36m_assert_all_finite\u001b[0;34m(X, allow_nan, msg_dtype)\u001b[0m\n\u001b[1;32m    101\u001b[0m                 not allow_nan and not np.isfinite(X).all()):\n\u001b[1;32m    102\u001b[0m             \u001b[0mtype_err\u001b[0m \u001b[0;34m=\u001b[0m \u001b[0;34m'infinity'\u001b[0m \u001b[0;32mif\u001b[0m \u001b[0mallow_nan\u001b[0m \u001b[0;32melse\u001b[0m \u001b[0;34m'NaN, infinity'\u001b[0m\u001b[0;34m\u001b[0m\u001b[0;34m\u001b[0m\u001b[0m\n\u001b[0;32m--> 103\u001b[0;31m             raise ValueError(\n\u001b[0m\u001b[1;32m    104\u001b[0m                     \u001b[0mmsg_err\u001b[0m\u001b[0;34m.\u001b[0m\u001b[0mformat\u001b[0m\u001b[0;34m\u001b[0m\u001b[0;34m\u001b[0m\u001b[0m\n\u001b[1;32m    105\u001b[0m                     (type_err,\n",
      "\u001b[0;31mValueError\u001b[0m: Input contains NaN, infinity or a value too large for dtype('float64')."
     ]
    }
   ],
   "source": [
    "results = run_cv_model(disp[['polled_margin', '2012_margin_diff', '2016_margin_diff', '2016_actual_margin']], None, disp['actual_margin'].values, runRidge, {}, rmse)"
   ]
  },
  {
   "cell_type": "code",
   "execution_count": null,
   "metadata": {},
   "outputs": [],
   "source": [
    "disp['pred_margin'] = results['train']\n",
    "disp['pred_actual_diff'] = disp['pred_margin'] - disp['actual_margin']\n",
    "disp['pred_actual_diff_abs'] = np.abs(disp['pred_margin'] - disp['actual_margin'])\n",
    "show(disp.sort_values('pred_actual_diff_abs', ascending=False))"
   ]
  },
  {
   "cell_type": "code",
   "execution_count": null,
   "metadata": {},
   "outputs": [],
   "source": [
    "disp[disp['state'] == 'Florida']"
   ]
  },
  {
   "cell_type": "code",
   "execution_count": null,
   "metadata": {},
   "outputs": [],
   "source": [
    "disp[disp['state'] == 'Georgia']"
   ]
  },
  {
   "cell_type": "code",
   "execution_count": null,
   "metadata": {},
   "outputs": [],
   "source": []
  }
 ],
 "metadata": {
  "kernelspec": {
   "display_name": "Python 3",
   "language": "python",
   "name": "python3"
  },
  "language_info": {
   "codemirror_mode": {
    "name": "ipython",
    "version": 3
   },
   "file_extension": ".py",
   "mimetype": "text/x-python",
   "name": "python",
   "nbconvert_exporter": "python",
   "pygments_lexer": "ipython3",
   "version": "3.8.8"
  }
 },
 "nbformat": 4,
 "nbformat_minor": 4
}
